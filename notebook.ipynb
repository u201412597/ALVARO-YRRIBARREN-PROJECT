{
 "cells": [
  {
   "cell_type": "markdown",
   "metadata": {},
   "source": [
    "<center>\n",
    "    <img src=\"https://cf-courses-data.s3.us.cloud-object-storage.appdomain.cloud/IBMDeveloperSkillsNetwork-DS0105EN-SkillsNetwork/labs/Module2/images/SN_web_lightmode.png\" width=\"300\" alt=\"cognitiveclass.ai logo\">\n",
    "</center>\n"
   ]
  },
  {
   "cell_type": "markdown",
   "metadata": {},
   "source": [
    "#### Add your code below following the instructions given in the course\n"
   ]
  },
  {
   "cell_type": "code",
   "execution_count": 3,
   "metadata": {
    "scrolled": true
   },
   "outputs": [
    {
     "name": "stdout",
     "output_type": "stream",
     "text": [
      "introduccion\n",
      "Welcome to this Jupyter Notebook! In this notebook, we will explore various data science tools, languages, and libraries. We will also cover simple code examples to help you get familiar with using Jupyter for data science tasks\n"
     ]
    }
   ],
   "source": [
    "print(\"introduccion\")\n",
    "print(\"Welcome to this Jupyter Notebook! In this notebook, we will explore various data science tools, languages, and libraries. We will also cover simple code examples to help you get familiar with using Jupyter for data science tasks\")"
   ]
  },
  {
   "cell_type": "code",
   "execution_count": 4,
   "metadata": {},
   "outputs": [],
   "source": [
    "# list data science languages"
   ]
  },
  {
   "cell_type": "code",
   "execution_count": 10,
   "metadata": {},
   "outputs": [
    {
     "name": "stdout",
     "output_type": "stream",
     "text": [
      " LIST OF DATA SCIENCE LANGUAGES\n",
      "- Python\n",
      "- R\n",
      "- SQL\n",
      "- Java\n",
      "- Scala\n",
      "- Matlab\n"
     ]
    }
   ],
   "source": [
    "print(\" LIST OF DATA SCIENCE LANGUAGES\")\n",
    "print(\"- Python\")\n",
    "print(\"- R\") \n",
    "print(\"- SQL\")\n",
    "print(\"- Java\")\n",
    "print(\"- Scala\")\n",
    "print(\"- Matlab\")"
   ]
  },
  {
   "cell_type": "code",
   "execution_count": 15,
   "metadata": {},
   "outputs": [
    {
     "name": "stdout",
     "output_type": "stream",
     "text": [
      "A continuación se presenta una lista de bibliotecas populares utilizadas en ciencia de datos:\n",
      "\n",
      "| Herramienta          | Uso                        |\n",
      "|----------------------|----------------------------|\n",
      "| Jupyter Notebook     | Entorno de desarrollo      |\n",
      "| Pandas               | Manipulación de datos      |\n",
      "| NumPy                | Cálculos numéricos         |\n",
      "| Matplotlib           | Visualización de datos     |\n",
      "| Scikit-learn         | Aprendizaje automático     |\n",
      "| TensorFlow           | Aprendizaje profundo       |\n",
      "| Keras                | Redes neuronales           |\n",
      "| Tableau              | Visualización de datos     |\n",
      "| Power BI             | Visualización de datos     |\n"
     ]
    }
   ],
   "source": [
    "#  list data science libraries.\n",
    "print(\"A continuación se presenta una lista de bibliotecas populares utilizadas en ciencia de datos:\\n\")\n",
    "print(\"| Herramienta          | Uso                        |\")\n",
    "print(\"|----------------------|----------------------------|\")\n",
    "print(\"| Jupyter Notebook     | Entorno de desarrollo      |\")\n",
    "print(\"| Pandas               | Manipulación de datos      |\")\n",
    "print(\"| NumPy                | Cálculos numéricos         |\")\n",
    "print(\"| Matplotlib           | Visualización de datos     |\")\n",
    "print(\"| Scikit-learn         | Aprendizaje automático     |\")\n",
    "print(\"| TensorFlow           | Aprendizaje profundo       |\")\n",
    "print(\"| Keras                | Redes neuronales           |\")\n",
    "print(\"| Tableau              | Visualización de datos     |\")\n",
    "print(\"| Power BI             | Visualización de datos     |\")"
   ]
  },
  {
   "cell_type": "code",
   "execution_count": 16,
   "metadata": {},
   "outputs": [
    {
     "name": "stdout",
     "output_type": "stream",
     "text": [
      "| Herramienta           | Uso                        |\n",
      "|-----------------------|----------------------------|\n",
      "| Jupyter Notebook      | Entorno de desarrollo      |\n",
      "| Pandas                | Manipulación de datos      |\n",
      "| NumPy                 | Cálculos numéricos         |\n",
      "| Matplotlib            | Visualización de datos     |\n",
      "| Scikit-learn          | Aprendizaje automático     |\n",
      "| TensorFlow            | Aprendizaje profundo       |\n",
      "| Keras                 | Redes neuronales           |\n",
      "| Tableau               | Visualización de datos     |\n",
      "| Power BI              | Visualización de datos     |\n"
     ]
    }
   ],
   "source": [
    "# Imprimir la tabla con formato usando solo print\n",
    "\n",
    "print(\"| Herramienta           | Uso                        |\")\n",
    "print(\"|-----------------------|----------------------------|\")\n",
    "print(\"| Jupyter Notebook      | Entorno de desarrollo      |\")\n",
    "print(\"| Pandas                | Manipulación de datos      |\")\n",
    "print(\"| NumPy                 | Cálculos numéricos         |\")\n",
    "print(\"| Matplotlib            | Visualización de datos     |\")\n",
    "print(\"| Scikit-learn          | Aprendizaje automático     |\")\n",
    "print(\"| TensorFlow            | Aprendizaje profundo       |\")\n",
    "print(\"| Keras                 | Redes neuronales           |\")\n",
    "print(\"| Tableau               | Visualización de datos     |\")\n",
    "print(\"| Power BI              | Visualización de datos     |\")"
   ]
  },
  {
   "cell_type": "code",
   "execution_count": 19,
   "metadata": {},
   "outputs": [
    {
     "name": "stdout",
     "output_type": "stream",
     "text": [
      "INTRODUCCION\n",
      "En este apartado, exploraremos ejemplos de expresiones aritméticas, que son fundamentales en matemáticas y programación, incluyendo operaciones como la suma, resta, multiplicación y división.\n"
     ]
    }
   ],
   "source": [
    "# Imprimir la oración introductoria\n",
    "print(\"INTRODUCCION\")\n",
    "print(\"En este apartado, exploraremos ejemplos de expresiones aritméticas, que son fundamentales en matemáticas y programación, incluyendo operaciones como la suma, resta, multiplicación y división.\")"
   ]
  },
  {
   "cell_type": "code",
   "execution_count": 20,
   "metadata": {},
   "outputs": [
    {
     "name": "stdout",
     "output_type": "stream",
     "text": [
      "Producto: 15\n",
      "Suma: 8\n"
     ]
    }
   ],
   "source": [
    "# definir los numeros\n",
    "a = 5\n",
    "b = 3\n",
    "\n",
    "# Multiplicar\n",
    "producto = a * b\n",
    "\n",
    "# Sumar\n",
    "suma = a + b\n",
    "\n",
    "# Imprimir resultados\n",
    "print(\"Producto:\", producto)\n",
    "print(\"Suma:\", suma)"
   ]
  },
  {
   "cell_type": "code",
   "execution_count": 22,
   "metadata": {},
   "outputs": [
    {
     "name": "stdin",
     "output_type": "stream",
     "text": [
      "¿Cuántos minutos deseas convertir a horas?  1002\n"
     ]
    },
    {
     "name": "stdout",
     "output_type": "stream",
     "text": [
      "1002.0 minutos son 16.7 horas.\n"
     ]
    }
   ],
   "source": [
    "# Preguntar al usuario cuántos minutos desea convertir\n",
    "minutos = float(input(\"¿Cuántos minutos deseas convertir a horas? \"))\n",
    "\n",
    "# Convertir minutos a horas\n",
    "horas = minutos / 60\n",
    "\n",
    "# Imprimir el resultado\n",
    "print(f\"{minutos} minutos son {horas} horas.\")"
   ]
  },
  {
   "cell_type": "code",
   "execution_count": 26,
   "metadata": {},
   "outputs": [
    {
     "name": "stdout",
     "output_type": "stream",
     "text": [
      "## Objetivos del Curso\n",
      "A continuación se presentan los objetivos que se esperan cumplir a lo largo del curso:\n",
      "- Comprender los conceptos básicos de la ciencia de datos.\n",
      "- Aprender a utilizar herramientas y bibliotecas de programación.\n",
      "- Desarrollar habilidades en análisis de datos.\n",
      "- Implementar modelos de aprendizaje automático.\n",
      "- Visualizar y comunicar resultados de manera efectiva.\n"
     ]
    }
   ],
   "source": [
    "# la oración de introductoria y la lista desordenada:\n",
    "print(\"## Objetivos del Curso\")\n",
    "print(\"A continuación se presentan los objetivos que se esperan cumplir a lo largo del curso:\")\n",
    "print(\"- Comprender los conceptos básicos de la ciencia de datos.\")\n",
    "print(\"- Aprender a utilizar herramientas y bibliotecas de programación.\")\n",
    "print(\"- Desarrollar habilidades en análisis de datos.\")\n",
    "print(\"- Implementar modelos de aprendizaje automático.\")\n",
    "print(\"- Visualizar y comunicar resultados de manera efectiva.\")"
   ]
  },
  {
   "cell_type": "code",
   "execution_count": 27,
   "metadata": {},
   "outputs": [
    {
     "name": "stdout",
     "output_type": "stream",
     "text": [
      "Nombre del Autor: Alvaro Yrribarren\n"
     ]
    }
   ],
   "source": [
    "# Imprimir el nombre del autor\n",
    "print(\"Nombre del Autor: Alvaro Yrribarren\")"
   ]
  },
  {
   "cell_type": "code",
   "execution_count": null,
   "metadata": {},
   "outputs": [],
   "source": []
  }
 ],
 "metadata": {
  "kernelspec": {
   "display_name": "Python 3 (ipykernel)",
   "language": "python",
   "name": "python3"
  },
  "language_info": {
   "codemirror_mode": {
    "name": "ipython",
    "version": 3
   },
   "file_extension": ".py",
   "mimetype": "text/x-python",
   "name": "python",
   "nbconvert_exporter": "python",
   "pygments_lexer": "ipython3",
   "version": "3.11.9"
  }
 },
 "nbformat": 4,
 "nbformat_minor": 4
}
